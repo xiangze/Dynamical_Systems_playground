{
 "cells": [
  {
   "cell_type": "markdown",
   "id": "f3793164",
   "metadata": {},
   "source": [
    "# Tanh遺伝子調節と代謝成長系"
   ]
  },
  {
   "cell_type": "code",
   "execution_count": 1,
   "id": "d5887b93",
   "metadata": {},
   "outputs": [],
   "source": [
    "import numpy as np\n",
    "import matplotlib.pyplot as plt\n",
    "import math\n",
    "from copy import deepcopy"
   ]
  },
  {
   "cell_type": "code",
   "execution_count": null,
   "id": "5c43a345",
   "metadata": {},
   "outputs": [],
   "source": [
    "def gene_protein_dynamics(N,J,th,Q,xi,pi,seed):\n",
    "    xs=deepcopy(xi)\n",
    "    ps=deepcopy(ps)\n",
    "     \n",
    "    for t in range(T):\n",
    "    A=J@(x+th)\n",
    "    xx=np.tanh(beta*A)-gamma*x\n",
    "    x=x+xx*dt\n",
    "    xs=np.vstack([xs,x])   \n",
    "    \n",
    "    ps=ps+(Q@pd*xi-ps)*dt\n",
    "    \n",
    "    xs=xs.T\n",
    "    return xs\n",
    "\n",
    "    return xi,ps\n",
    "    \n",
    "def gene_dynamics(N,seed):    \n",
    "    rng = np.random.default_rng(seed)\n",
    "    J =np.array(rng.random(N*N)).reshape(N,N)-0.5\n",
    "    th=np.array(rng.random(N))-0.5\n",
    "\n",
    "    xi=np.array(rng.random(N))-0.5\n",
    "    \n",
    "    #protain is positive\n",
    "    ps=np.array(rng.random(N))\n",
    "    \n",
    "    for t in range(T):\n",
    "    mu=\n",
    "        xi,ps=gene_protein_dynamics()"
   ]
  }
 ],
 "metadata": {
  "kernelspec": {
   "display_name": "Python 3 (ipykernel)",
   "language": "python",
   "name": "python3"
  },
  "language_info": {
   "codemirror_mode": {
    "name": "ipython",
    "version": 3
   },
   "file_extension": ".py",
   "mimetype": "text/x-python",
   "name": "python",
   "nbconvert_exporter": "python",
   "pygments_lexer": "ipython3",
   "version": "3.8.10"
  }
 },
 "nbformat": 4,
 "nbformat_minor": 5
}
