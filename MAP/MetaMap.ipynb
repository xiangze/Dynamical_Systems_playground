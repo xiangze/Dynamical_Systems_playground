{
 "cells": [
  {
   "cell_type": "markdown",
   "id": "37723a20",
   "metadata": {},
   "source": [
    "# Meta Map"
   ]
  },
  {
   "cell_type": "code",
   "execution_count": 2,
   "id": "c33f6541",
   "metadata": {},
   "outputs": [],
   "source": [
    "import fmaplib"
   ]
  },
  {
   "cell_type": "markdown",
   "id": "598eb1e0",
   "metadata": {},
   "source": [
    "## type II map"
   ]
  },
  {
   "cell_type": "code",
   "execution_count": null,
   "id": "48102663",
   "metadata": {},
   "outputs": [],
   "source": []
  },
  {
   "cell_type": "markdown",
   "id": "55f8fb0d",
   "metadata": {},
   "source": [
    "## type III map"
   ]
  },
  {
   "cell_type": "code",
   "execution_count": null,
   "id": "ab60c195",
   "metadata": {},
   "outputs": [],
   "source": []
  },
  {
   "cell_type": "code",
   "execution_count": null,
   "id": "bc98727a",
   "metadata": {},
   "outputs": [],
   "source": []
  }
 ],
 "metadata": {
  "kernelspec": {
   "display_name": "Python 3 (ipykernel)",
   "language": "python",
   "name": "python3"
  },
  "language_info": {
   "codemirror_mode": {
    "name": "ipython",
    "version": 3
   },
   "file_extension": ".py",
   "mimetype": "text/x-python",
   "name": "python",
   "nbconvert_exporter": "python",
   "pygments_lexer": "ipython3",
   "version": "3.8.10"
  }
 },
 "nbformat": 4,
 "nbformat_minor": 5
}
