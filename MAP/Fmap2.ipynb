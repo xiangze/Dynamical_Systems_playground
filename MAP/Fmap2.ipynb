{
 "cells": [
  {
   "cell_type": "markdown",
   "id": "28b5a1df",
   "metadata": {},
   "source": [
    "# 関数マップ総集編\n",
    "\n",
    "https://www.kurims.kyoto-u.ac.jp/~kyodo/kokyuroku/contents/pdf/1244-23.pdf"
   ]
  },
  {
   "cell_type": "code",
   "execution_count": 1,
   "id": "9dd08b96",
   "metadata": {},
   "outputs": [],
   "source": [
    "import fmaplib as fm"
   ]
  },
  {
   "cell_type": "code",
   "execution_count": null,
   "id": "7ec0a836",
   "metadata": {},
   "outputs": [],
   "source": []
  }
 ],
 "metadata": {
  "kernelspec": {
   "display_name": "Python 3 (ipykernel)",
   "language": "python",
   "name": "python3"
  },
  "language_info": {
   "codemirror_mode": {
    "name": "ipython",
    "version": 3
   },
   "file_extension": ".py",
   "mimetype": "text/x-python",
   "name": "python",
   "nbconvert_exporter": "python",
   "pygments_lexer": "ipython3",
   "version": "3.8.10"
  }
 },
 "nbformat": 4,
 "nbformat_minor": 5
}
